{
 "cells": [
  {
   "cell_type": "markdown",
   "metadata": {
    "collapsed": true,
    "pycharm": {
     "name": "#%% md\n"
    }
   },
   "source": [
    "https://pytorch.org/tutorials/intermediate/tensorboard_tutorial.html"
   ]
  },
  {
   "cell_type": "code",
   "execution_count": 1,
   "outputs": [],
   "source": [
    "# imports\n",
    "import matplotlib.pyplot as plt\n",
    "import numpy as np\n",
    "\n",
    "import torch\n",
    "import torchvision\n",
    "import torchvision.transforms as transforms\n",
    "\n",
    "import torch.nn as nn\n",
    "import torch.nn.functional as F\n",
    "import torch.optim as optim"
   ],
   "metadata": {
    "collapsed": false,
    "pycharm": {
     "name": "#%%\n"
    }
   }
  },
  {
   "cell_type": "code",
   "execution_count": 2,
   "outputs": [],
   "source": [
    "transform = transforms.Compose(\n",
    "    [transforms.ToTensor(),\n",
    "     transforms.Normalize((0.5,), (0.5,))])"
   ],
   "metadata": {
    "collapsed": false,
    "pycharm": {
     "name": "#%%\n"
    }
   }
  },
  {
   "cell_type": "code",
   "execution_count": 3,
   "outputs": [],
   "source": [
    "trainset = torchvision.datasets.FashionMNIST('../data',\n",
    "                                             download=True,\n",
    "                                             train=True,\n",
    "                                             transform=transform)\n",
    "testset = torchvision.datasets.FashionMNIST('../data',\n",
    "                                            download=False,\n",
    "                                            train=False,\n",
    "                                            transform=transform)"
   ],
   "metadata": {
    "collapsed": false,
    "pycharm": {
     "name": "#%%\n"
    }
   }
  },
  {
   "cell_type": "code",
   "execution_count": 4,
   "outputs": [],
   "source": [
    "trainingloader = torch.utils.data.DataLoader(trainset,\n",
    "                                             batch_size=4,\n",
    "                                             shuffle=False, num_workers=2)\n",
    "testloader = torch.utils.data.DataLoader(testset,\n",
    "                                         batch_size=4,\n",
    "                                         shuffle=False, num_workers=2)"
   ],
   "metadata": {
    "collapsed": false,
    "pycharm": {
     "name": "#%%\n"
    }
   }
  },
  {
   "cell_type": "code",
   "execution_count": 5,
   "outputs": [],
   "source": [
    "classes = ('T-shirt/top', 'Trouser', 'Pullover', 'Dress', 'Coat',\n",
    "           'Sandal', 'Shirt', 'Sneaker', 'Bag', 'Ankle Boot')"
   ],
   "metadata": {
    "collapsed": false,
    "pycharm": {
     "name": "#%%\n"
    }
   }
  },
  {
   "cell_type": "code",
   "execution_count": 6,
   "outputs": [],
   "source": [
    "def matplotlib_imshow(img, one_channel=False):\n",
    "    if one_channel:\n",
    "        img = img.mean(dim=0)\n",
    "    img = img / 2 + 0.5     # unnormalize\n",
    "    npimg = img.numpy()\n",
    "    if one_channel:\n",
    "        plt.imshow(npimg, cmap=\"Greys\")\n",
    "    else:\n",
    "        plt.imshow(np.transpose(npimg, (1, 2, 0)))"
   ],
   "metadata": {
    "collapsed": false,
    "pycharm": {
     "name": "#%%\n"
    }
   }
  },
  {
   "cell_type": "code",
   "execution_count": 7,
   "outputs": [],
   "source": [
    "class Net(nn.Module):\n",
    "    def __init__(self):\n",
    "        super(Net, self).__init__()\n",
    "        self.conv1 = nn.Conv2d(1, 6, 5)\n",
    "        self.pool = nn.MaxPool2d(2, 2)\n",
    "        self.conv2 = nn.Conv2d(6, 16, 5)\n",
    "        self.fc1 = nn.Linear(16 * 4 * 4, 120)\n",
    "        self.fc2 = nn.Linear(120, 84)\n",
    "        self.fc3 = nn.Linear(84, 10)\n",
    "\n",
    "    def forward(self, x):\n",
    "        x = self.pool(F.relu(self.conv1(x)))\n",
    "        x = self.pool(F.relu(self.conv2(x)))\n",
    "        x = x.view(-1, 16 * 4 * 4)\n",
    "        x = F.relu(self.fc1(x))\n",
    "        x = F.relu(self.fc2(x))\n",
    "        x = self.fc3(x)\n",
    "        return x\n",
    "\n",
    "net = Net()"
   ],
   "metadata": {
    "collapsed": false,
    "pycharm": {
     "name": "#%%\n"
    }
   }
  },
  {
   "cell_type": "code",
   "execution_count": 8,
   "outputs": [],
   "source": [
    "loss_fn = nn.CrossEntropyLoss()\n",
    "optimizer = optim.SGD(net.parameters(),lr=1e-3,momentum=0.9)"
   ],
   "metadata": {
    "collapsed": false,
    "pycharm": {
     "name": "#%%\n"
    }
   }
  },
  {
   "cell_type": "code",
   "execution_count": 14,
   "outputs": [],
   "source": [
    "from torch.utils.tensorboard import SummaryWriter\n",
    "# default `log_dir` is \"runs\" - we'll be more specific here\n",
    "writer = SummaryWriter('runs/test')"
   ],
   "metadata": {
    "collapsed": false,
    "pycharm": {
     "name": "#%%\n"
    }
   }
  },
  {
   "cell_type": "code",
   "execution_count": 12,
   "outputs": [
    {
     "name": "stdout",
     "output_type": "stream",
     "text": [
      "Collecting tensorboard\r\n",
      "  Using cached tensorboard-2.7.0-py3-none-any.whl (5.8 MB)\r\n",
      "Collecting grpcio>=1.24.3\r\n",
      "  Downloading grpcio-1.43.0-cp39-cp39-macosx_10_10_x86_64.whl (4.2 MB)\r\n",
      "     |████████████████████████████████| 4.2 MB 3.4 MB/s            \r\n",
      "\u001B[?25hRequirement already satisfied: protobuf>=3.6.0 in /Users/romandusek/Documents/projects/learning_pytorch/venv38/lib/python3.9/site-packages (from tensorboard) (3.19.3)\r\n",
      "Collecting tensorboard-data-server<0.7.0,>=0.6.0\r\n",
      "  Using cached tensorboard_data_server-0.6.1-py3-none-macosx_10_9_x86_64.whl (3.5 MB)\r\n",
      "Collecting google-auth-oauthlib<0.5,>=0.4.1\r\n",
      "  Using cached google_auth_oauthlib-0.4.6-py2.py3-none-any.whl (18 kB)\r\n",
      "Requirement already satisfied: setuptools>=41.0.0 in /Users/romandusek/Documents/projects/learning_pytorch/venv38/lib/python3.9/site-packages (from tensorboard) (60.2.0)\r\n",
      "Collecting absl-py>=0.4\r\n",
      "  Using cached absl_py-1.0.0-py3-none-any.whl (126 kB)\r\n",
      "Collecting requests<3,>=2.21.0\r\n",
      "  Using cached requests-2.27.1-py2.py3-none-any.whl (63 kB)\r\n",
      "Requirement already satisfied: numpy>=1.12.0 in /Users/romandusek/Documents/projects/learning_pytorch/venv38/lib/python3.9/site-packages (from tensorboard) (1.22.1)\r\n",
      "Collecting google-auth<3,>=1.6.3\r\n",
      "  Using cached google_auth-2.3.3-py2.py3-none-any.whl (155 kB)\r\n",
      "Collecting tensorboard-plugin-wit>=1.6.0\r\n",
      "  Using cached tensorboard_plugin_wit-1.8.1-py3-none-any.whl (781 kB)\r\n",
      "Collecting werkzeug>=0.11.15\r\n",
      "  Using cached Werkzeug-2.0.2-py3-none-any.whl (288 kB)\r\n",
      "Collecting markdown>=2.6.8\r\n",
      "  Using cached Markdown-3.3.6-py3-none-any.whl (97 kB)\r\n",
      "Requirement already satisfied: wheel>=0.26 in /Users/romandusek/Documents/projects/learning_pytorch/venv38/lib/python3.9/site-packages (from tensorboard) (0.37.1)\r\n",
      "Requirement already satisfied: six in /Users/romandusek/Documents/projects/learning_pytorch/venv38/lib/python3.9/site-packages (from absl-py>=0.4->tensorboard) (1.16.0)\r\n",
      "Collecting rsa<5,>=3.1.4\r\n",
      "  Using cached rsa-4.8-py3-none-any.whl (39 kB)\r\n",
      "Collecting cachetools<5.0,>=2.0.0\r\n",
      "  Using cached cachetools-4.2.4-py3-none-any.whl (10 kB)\r\n",
      "Collecting pyasn1-modules>=0.2.1\r\n",
      "  Using cached pyasn1_modules-0.2.8-py2.py3-none-any.whl (155 kB)\r\n",
      "Collecting requests-oauthlib>=0.7.0\r\n",
      "  Using cached requests_oauthlib-1.3.0-py2.py3-none-any.whl (23 kB)\r\n",
      "Collecting importlib-metadata>=4.4\r\n",
      "  Using cached importlib_metadata-4.10.0-py3-none-any.whl (17 kB)\r\n",
      "Collecting charset-normalizer~=2.0.0\r\n",
      "  Using cached charset_normalizer-2.0.10-py3-none-any.whl (39 kB)\r\n",
      "Collecting idna<4,>=2.5\r\n",
      "  Using cached idna-3.3-py3-none-any.whl (61 kB)\r\n",
      "Collecting urllib3<1.27,>=1.21.1\r\n",
      "  Using cached urllib3-1.26.8-py2.py3-none-any.whl (138 kB)\r\n",
      "Collecting certifi>=2017.4.17\r\n",
      "  Using cached certifi-2021.10.8-py2.py3-none-any.whl (149 kB)\r\n",
      "Collecting zipp>=0.5\r\n",
      "  Using cached zipp-3.7.0-py3-none-any.whl (5.3 kB)\r\n",
      "Collecting pyasn1<0.5.0,>=0.4.6\r\n",
      "  Using cached pyasn1-0.4.8-py2.py3-none-any.whl (77 kB)\r\n",
      "Collecting oauthlib>=3.0.0\r\n",
      "  Using cached oauthlib-3.1.1-py2.py3-none-any.whl (146 kB)\r\n",
      "Installing collected packages: urllib3, pyasn1, idna, charset-normalizer, certifi, zipp, rsa, requests, pyasn1-modules, oauthlib, cachetools, requests-oauthlib, importlib-metadata, google-auth, werkzeug, tensorboard-plugin-wit, tensorboard-data-server, markdown, grpcio, google-auth-oauthlib, absl-py, tensorboard\r\n",
      "Successfully installed absl-py-1.0.0 cachetools-4.2.4 certifi-2021.10.8 charset-normalizer-2.0.10 google-auth-2.3.3 google-auth-oauthlib-0.4.6 grpcio-1.43.0 idna-3.3 importlib-metadata-4.10.0 markdown-3.3.6 oauthlib-3.1.1 pyasn1-0.4.8 pyasn1-modules-0.2.8 requests-2.27.1 requests-oauthlib-1.3.0 rsa-4.8 tensorboard-2.7.0 tensorboard-data-server-0.6.1 tensorboard-plugin-wit-1.8.1 urllib3-1.26.8 werkzeug-2.0.2 zipp-3.7.0\r\n",
      "Note: you may need to restart the kernel to use updated packages.\n"
     ]
    }
   ],
   "source": [
    "pip install tensorboard"
   ],
   "metadata": {
    "collapsed": false,
    "pycharm": {
     "name": "#%%\n"
    }
   }
  },
  {
   "cell_type": "code",
   "execution_count": 15,
   "outputs": [
    {
     "data": {
      "text/plain": "<Figure size 432x288 with 1 Axes>",
      "image/png": "[encoded data removed]"
     },
     "metadata": {
      "needs_background": "light"
     },
     "output_type": "display_data"
    }
   ],
   "source": [
    "dataiter = iter(trainingloader)\n",
    "images, labels = dataiter.next()\n",
    "\n",
    "img_grid = torchvision.utils.make_grid(images)\n",
    "\n",
    "matplotlib_imshow(img_grid, one_channel=True)\n",
    "\n",
    "writer.add_image(\"four images\", img_grid)"
   ],
   "metadata": {
    "collapsed": false,
    "pycharm": {
     "name": "#%%\n"
    }
   }
  },
  {
   "cell_type": "markdown",
   "source": [
    "# tensorflow doesn't work now on mac os M1"
   ],
   "metadata": {
    "collapsed": false,
    "pycharm": {
     "name": "#%% md\n"
    }
   }
  },
  {
   "cell_type": "code",
   "execution_count": 17,
   "outputs": [
    {
     "name": "stdout",
     "output_type": "stream",
     "text": [
      "TensorFlow installation not found - running with reduced feature set.\r\n",
      "\r\n",
      "NOTE: Using experimental fast data loading logic. To disable, pass\r\n",
      "    \"--load_fast=false\" and report issues on GitHub. More details:\r\n",
      "    https://github.com/tensorflow/tensorboard/issues/4784\r\n",
      "\r\n",
      "Serving TensorBoard on localhost; to expose to the network, use a proxy or pass --bind_all\r\n",
      "TensorBoard 2.7.0 at http://localhost:6006/ (Press CTRL+C to quit)\r\n",
      "^C\r\n"
     ]
    }
   ],
   "source": [
    "!tensorboard --logdir=runs"
   ],
   "metadata": {
    "collapsed": false,
    "pycharm": {
     "name": "#%%\n"
    }
   }
  },
  {
   "cell_type": "code",
   "execution_count": null,
   "outputs": [],
   "source": [],
   "metadata": {
    "collapsed": false,
    "pycharm": {
     "name": "#%%\n"
    }
   }
  }
 ],
 "metadata": {
  "kernelspec": {
   "name": "python398jvsc74a57bd0808fcc26ade4ceeecc1e1e1a7f3663b22945e8d9ee3d9c5bd7bee021d612e0bb",
   "language": "python",
   "display_name": "Python 3.9.8 64-bit ('venv38': venv)"
  },
  "language_info": {
   "codemirror_mode": {
    "name": "ipython",
    "version": 2
   },
   "file_extension": ".py",
   "mimetype": "text/x-python",
   "name": "python",
   "nbconvert_exporter": "python",
   "pygments_lexer": "ipython2",
   "version": "2.7.6"
  }
 },
 "nbformat": 4,
 "nbformat_minor": 0
}