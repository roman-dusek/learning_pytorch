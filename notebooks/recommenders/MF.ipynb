{
 "cells": [
  {
   "cell_type": "code",
   "execution_count": 181,
   "metadata": {
    "collapsed": true
   },
   "outputs": [],
   "source": [
    "import torch\n",
    "import torch.nn as nn\n",
    "import pandas as pd\n",
    "import numpy as np\n",
    "import torch.functional as F\n",
    "import matplotlib.pyplot as plt\n",
    "\n",
    "from sklearn.model_selection import train_test_split\n",
    "from sklearn.preprocessing import OrdinalEncoder\n",
    "\n",
    "import importlib\n",
    "import my_models.matrix_factorization\n",
    "\n",
    "importlib.reload(my_models.matrix_factorization)\n",
    "from my_models.matrix_factorization import BasicMF, BiasMF\n"
   ]
  },
  {
   "cell_type": "markdown",
   "source": [
    "# split raw data"
   ],
   "metadata": {
    "collapsed": false,
    "pycharm": {
     "name": "#%% md\n"
    }
   }
  },
  {
   "cell_type": "code",
   "execution_count": 18,
   "outputs": [
    {
     "name": "stderr",
     "output_type": "stream",
     "text": [
      "/var/folders/_7/4gnw6wrj6q74k30mpk7kz5680000gn/T/ipykernel_89321/624236433.py:1: ParserWarning: Falling back to the 'python' engine because the 'c' engine does not support regex separators (separators > 1 char and different from '\\s+' are interpreted as regex); you can avoid this warning by specifying engine='python'.\n",
      "  data = pd.read_csv(\"../../data/ml-1m/ratings.dat\", sep=\"::\", names=[\"uid\",\"iid\",\"rating\",\"timestamp\"])\n"
     ]
    }
   ],
   "source": [
    "data = pd.read_csv(\"../../data/ml-1m/ratings.dat\", sep=\"::\", names=[\"uid\", \"iid\", \"rating\", \"timestamp\"])"
   ],
   "metadata": {
    "collapsed": false,
    "pycharm": {
     "name": "#%%\n"
    }
   }
  },
  {
   "cell_type": "code",
   "execution_count": 68,
   "outputs": [],
   "source": [
    "train, test = train_test_split(data, stratify=data.rating.values)"
   ],
   "metadata": {
    "collapsed": false,
    "pycharm": {
     "name": "#%%\n"
    }
   }
  },
  {
   "cell_type": "code",
   "execution_count": 69,
   "outputs": [],
   "source": [
    "train = train[(train.uid.isin(test.uid)) & (train.iid.isin(test.iid))].copy()\n",
    "test = test[(test.uid.isin(train.uid)) & (test.iid.isin(train.iid))].copy()"
   ],
   "metadata": {
    "collapsed": false,
    "pycharm": {
     "name": "#%%\n"
    }
   }
  },
  {
   "cell_type": "code",
   "execution_count": 71,
   "outputs": [],
   "source": [
    "ord_enc = OrdinalEncoder()\n",
    "train.iloc[:, :2] = ord_enc.fit_transform(train.iloc[:, :2]).astype(int)"
   ],
   "metadata": {
    "collapsed": false,
    "pycharm": {
     "name": "#%%\n"
    }
   }
  },
  {
   "cell_type": "code",
   "execution_count": 73,
   "outputs": [],
   "source": [
    "test.iloc[:, :2] = ord_enc.transform(test.iloc[:, :2]).astype(int)"
   ],
   "metadata": {
    "collapsed": false,
    "pycharm": {
     "name": "#%%\n"
    }
   }
  },
  {
   "cell_type": "code",
   "execution_count": 74,
   "outputs": [],
   "source": [
    "train.to_csv(\"../../data/ml-1m/train.csv\", index=False)\n",
    "test.to_csv(\"../../data/ml-1m/test.csv\", index=False)"
   ],
   "metadata": {
    "collapsed": false,
    "pycharm": {
     "name": "#%%\n"
    }
   }
  },
  {
   "cell_type": "markdown",
   "source": [
    "# Dataset"
   ],
   "metadata": {
    "collapsed": false,
    "pycharm": {
     "name": "#%% md\n"
    }
   }
  },
  {
   "cell_type": "code",
   "execution_count": 146,
   "outputs": [],
   "source": [
    "class MovieLensDataset(torch.utils.data.Dataset):\n",
    "    def __init__(self, path: str):\n",
    "        df = self._load_data(path)\n",
    "        self.user_ids = self._arange_movie_ids(df.iloc[:, 0])\n",
    "        self.movie_ids = self._arange_movie_ids(df.iloc[:, 1])\n",
    "        self.ratings = torch.FloatTensor(df.iloc[:, 2].values)\n",
    "\n",
    "        self.mean_rating = self.ratings.mean()\n",
    "\n",
    "    def _load_data(self, path: str):\n",
    "        return pd.read_csv(path)\n",
    "\n",
    "    def _arange_movie_ids(self, ids):\n",
    "        map_id = dict(zip(ids.unique(), np.arange(len(ids.unique()))))\n",
    "        return torch.LongTensor(list(map(lambda x: map_id[x], ids)))\n",
    "\n",
    "    def __len__(self):\n",
    "        return len(self.user_ids)\n",
    "\n",
    "    def __getitem__(self, idx):\n",
    "        values = []\n",
    "        for arr in [self.user_ids, self.movie_ids, self.ratings]:\n",
    "            values.append(arr[idx])\n",
    "\n",
    "        keys = [\"user_id\", \"movie_id\", \"rating\"]\n",
    "        return dict(zip(keys, values))"
   ],
   "metadata": {
    "collapsed": false,
    "pycharm": {
     "name": "#%%\n"
    }
   }
  },
  {
   "cell_type": "code",
   "execution_count": 147,
   "outputs": [],
   "source": [
    "DATA_PATH = \"../../data/ml-1m\""
   ],
   "metadata": {
    "collapsed": false,
    "pycharm": {
     "name": "#%%\n"
    }
   }
  },
  {
   "cell_type": "code",
   "execution_count": 148,
   "outputs": [],
   "source": [
    "datasets = {name: MovieLensDataset(f\"{DATA_PATH}/{name}.csv\")\n",
    "            for name in [\"train\", \"test\"]}\n",
    "dataloaders = {name: torch.utils.data.DataLoader(datasets[name], batch_size=128, shuffle=True)\n",
    "               for name in [\"train\", \"test\"]}"
   ],
   "metadata": {
    "collapsed": false,
    "pycharm": {
     "name": "#%%\n"
    }
   }
  },
  {
   "cell_type": "markdown",
   "source": [
    "# training"
   ],
   "metadata": {
    "collapsed": false,
    "pycharm": {
     "name": "#%% md\n"
    }
   }
  },
  {
   "cell_type": "code",
   "execution_count": 186,
   "outputs": [],
   "source": [
    "EPOCHS = 2\n",
    "\n",
    "def train_MF_model(mf_model: nn.Module,\n",
    "                   dataloaders: torch.utils.data.DataLoader\n",
    "                   ) -> tuple[nn.Module, dict[str, list]]:\n",
    "    print(\"Training\", model.__name__)\n",
    "\n",
    "    loss_fn = nn.MSELoss()\n",
    "    optim = torch.optim.Adam(mf_model.parameters())\n",
    "    history = {\"train\": [], \"test\": []}\n",
    "\n",
    "    for epoch in range(EPOCHS):\n",
    "        for phase in [\"train\", \"test\"]:\n",
    "            for batch in dataloaders[phase]:\n",
    "\n",
    "                preds = mf_model(batch[\"user_id\"], batch[\"movie_id\"])\n",
    "                loss = loss_fn(batch[\"rating\"], preds)\n",
    "                if phase == \"train\":\n",
    "                    optim.zero_grad()  # reset gradient\n",
    "                    loss.backward()\n",
    "                    optim.step()\n",
    "                history[phase].append(loss.item())\n",
    "\n",
    "    print(\"Results for:\", model.__name__)\n",
    "    plt.plot(history[\"train\"])\n",
    "    plt.title(\"train\")\n",
    "    plt.show()\n",
    "    plt.plot(history[\"test\"])\n",
    "    plt.title(\"test\")\n",
    "    plt.show()\n",
    "    print(\"Difference between test and train on MSE:\", np.mean(history[\"test\"]) - np.mean(history[\"train\"]))\n",
    "\n",
    "    return mf_model, history"
   ],
   "metadata": {
    "collapsed": false,
    "pycharm": {
     "name": "#%%\n"
    }
   }
  },
  {
   "cell_type": "code",
   "execution_count": 187,
   "outputs": [
    {
     "name": "stdout",
     "output_type": "stream",
     "text": [
      "Training BasicMF\n",
      "Results for: BasicMF\n"
     ]
    },
    {
     "data": {
      "text/plain": "<Figure size 432x288 with 1 Axes>",
      "image/png": "[encoded data removed]"
     },
     "metadata": {
      "needs_background": "light"
     },
     "output_type": "display_data"
    },
    {
     "data": {
      "text/plain": "<Figure size 432x288 with 1 Axes>",
      "image/png": "[encoded data removed]"
     },
     "metadata": {
      "needs_background": "light"
     },
     "output_type": "display_data"
    },
    {
     "name": "stdout",
     "output_type": "stream",
     "text": [
      "Difference between test and train on MSE: 0.1851648673299029\n",
      "Training BiasMF\n",
      "Results for: BiasMF\n"
     ]
    },
    {
     "data": {
      "text/plain": "<Figure size 432x288 with 1 Axes>",
      "image/png": "[encoded data removed]"
     },
     "metadata": {
      "needs_background": "light"
     },
     "output_type": "display_data"
    },
    {
     "data": {
      "text/plain": "<Figure size 432x288 with 1 Axes>",
      "image/png": "[encoded data removed]"
     },
     "metadata": {
      "needs_background": "light"
     },
     "output_type": "display_data"
    },
    {
     "name": "stdout",
     "output_type": "stream",
     "text": [
      "Difference between test and train on MSE: 0.5823292014289813\n"
     ]
    }
   ],
   "source": [
    "models = {}\n",
    "\n",
    "for model in [BasicMF, BiasMF]:\n",
    "    params={}\n",
    "\n",
    "    if model.__name__ == \"BiasMF\":\n",
    "        params[\"data_mean\"] = datasets[\"train\"].mean_rating\n",
    "\n",
    "\n",
    "    mf_model = model(n_users=len(datasets[\"train\"].user_ids.unique()),\n",
    "                     n_items=len(datasets[\"train\"].movie_ids.unique()),\n",
    "                     embd_dim=10,\n",
    "                     **params)\n",
    "\n",
    "    models[model.__name__] = train_MF_model(mf_model, dataloaders)"
   ],
   "metadata": {
    "collapsed": false,
    "pycharm": {
     "name": "#%%\n"
    }
   }
  },
  {
   "cell_type": "code",
   "execution_count": 208,
   "outputs": [
    {
     "name": "stdout",
     "output_type": "stream",
     "text": [
      "BasicMF\n"
     ]
    },
    {
     "data": {
      "text/plain": "     true      pred\n0     4.0  3.773190\n1     3.0  4.100941\n2     2.0  3.510480\n3     2.0  3.636799\n4     4.0  3.405061\n..    ...       ...\n123   3.0  4.250406\n124   3.0  3.748552\n125   4.0  1.578959\n126   5.0  3.080991\n127   3.0  3.969649\n\n[128 rows x 2 columns]",
      "text/html": "<div>\n<style scoped>\n    .dataframe tbody tr th:only-of-type {\n        vertical-align: middle;\n    }\n\n    .dataframe tbody tr th {\n        vertical-align: top;\n    }\n\n    .dataframe thead th {\n        text-align: right;\n    }\n</style>\n<table border=\"1\" class=\"dataframe\">\n  <thead>\n    <tr style=\"text-align: right;\">\n      <th></th>\n      <th>true</th>\n      <th>pred</th>\n    </tr>\n  </thead>\n  <tbody>\n    <tr>\n      <th>0</th>\n      <td>4.0</td>\n      <td>3.773190</td>\n    </tr>\n    <tr>\n      <th>1</th>\n      <td>3.0</td>\n      <td>4.100941</td>\n    </tr>\n    <tr>\n      <th>2</th>\n      <td>2.0</td>\n      <td>3.510480</td>\n    </tr>\n    <tr>\n      <th>3</th>\n      <td>2.0</td>\n      <td>3.636799</td>\n    </tr>\n    <tr>\n      <th>4</th>\n      <td>4.0</td>\n      <td>3.405061</td>\n    </tr>\n    <tr>\n      <th>...</th>\n      <td>...</td>\n      <td>...</td>\n    </tr>\n    <tr>\n      <th>123</th>\n      <td>3.0</td>\n      <td>4.250406</td>\n    </tr>\n    <tr>\n      <th>124</th>\n      <td>3.0</td>\n      <td>3.748552</td>\n    </tr>\n    <tr>\n      <th>125</th>\n      <td>4.0</td>\n      <td>1.578959</td>\n    </tr>\n    <tr>\n      <th>126</th>\n      <td>5.0</td>\n      <td>3.080991</td>\n    </tr>\n    <tr>\n      <th>127</th>\n      <td>3.0</td>\n      <td>3.969649</td>\n    </tr>\n  </tbody>\n</table>\n<p>128 rows × 2 columns</p>\n</div>"
     },
     "metadata": {},
     "output_type": "display_data"
    },
    {
     "name": "stdout",
     "output_type": "stream",
     "text": [
      "BiasMF\n"
     ]
    },
    {
     "data": {
      "text/plain": "     true      pred\n0     4.0  3.746617\n1     3.0  4.355735\n2     2.0  3.695610\n3     2.0  3.587511\n4     4.0  3.408024\n..    ...       ...\n123   3.0  4.123154\n124   3.0  3.919226\n125   4.0  2.477681\n126   5.0  2.794703\n127   3.0  3.732906\n\n[128 rows x 2 columns]",
      "text/html": "<div>\n<style scoped>\n    .dataframe tbody tr th:only-of-type {\n        vertical-align: middle;\n    }\n\n    .dataframe tbody tr th {\n        vertical-align: top;\n    }\n\n    .dataframe thead th {\n        text-align: right;\n    }\n</style>\n<table border=\"1\" class=\"dataframe\">\n  <thead>\n    <tr style=\"text-align: right;\">\n      <th></th>\n      <th>true</th>\n      <th>pred</th>\n    </tr>\n  </thead>\n  <tbody>\n    <tr>\n      <th>0</th>\n      <td>4.0</td>\n      <td>3.746617</td>\n    </tr>\n    <tr>\n      <th>1</th>\n      <td>3.0</td>\n      <td>4.355735</td>\n    </tr>\n    <tr>\n      <th>2</th>\n      <td>2.0</td>\n      <td>3.695610</td>\n    </tr>\n    <tr>\n      <th>3</th>\n      <td>2.0</td>\n      <td>3.587511</td>\n    </tr>\n    <tr>\n      <th>4</th>\n      <td>4.0</td>\n      <td>3.408024</td>\n    </tr>\n    <tr>\n      <th>...</th>\n      <td>...</td>\n      <td>...</td>\n    </tr>\n    <tr>\n      <th>123</th>\n      <td>3.0</td>\n      <td>4.123154</td>\n    </tr>\n    <tr>\n      <th>124</th>\n      <td>3.0</td>\n      <td>3.919226</td>\n    </tr>\n    <tr>\n      <th>125</th>\n      <td>4.0</td>\n      <td>2.477681</td>\n    </tr>\n    <tr>\n      <th>126</th>\n      <td>5.0</td>\n      <td>2.794703</td>\n    </tr>\n    <tr>\n      <th>127</th>\n      <td>3.0</td>\n      <td>3.732906</td>\n    </tr>\n  </tbody>\n</table>\n<p>128 rows × 2 columns</p>\n</div>"
     },
     "metadata": {},
     "output_type": "display_data"
    }
   ],
   "source": [
    "test_example = next(iter(dataloaders[\"test\"]))\n",
    "for model_name, (model, _) in models.items():\n",
    "    preds = model(test_example[\"user_id\"], test_example[\"movie_id\"])\n",
    "    print(model_name)\n",
    "    display(pd.DataFrame([test_example[\"rating\"].detach().numpy(),preds.detach().numpy()],index=[\"true\",\"pred\"]).T)"
   ],
   "metadata": {
    "collapsed": false,
    "pycharm": {
     "name": "#%%\n"
    }
   }
  },
  {
   "cell_type": "code",
   "execution_count": 244,
   "outputs": [],
   "source": [
    "user, movie, rating = [],[],[]\n",
    "for model_name, (model, _) in models.items():\n",
    "    for batch in dataloaders[\"test\"]:\n",
    "        preds = model(batch[\"user_id\"], batch[\"movie_id\"])\n",
    "        user.extend(batch[\"user_id\"].detach().numpy())\n",
    "        movie.extend(batch[\"movie_id\"].detach().numpy())\n",
    "        rating.extend(preds.detach().numpy())\n",
    "        break"
   ],
   "metadata": {
    "collapsed": false,
    "pycharm": {
     "name": "#%%\n"
    }
   }
  },
  {
   "cell_type": "code",
   "execution_count": 246,
   "outputs": [],
   "source": [
    "test = pd.DataFrame([user, movie, rating]).T"
   ],
   "metadata": {
    "collapsed": false,
    "pycharm": {
     "name": "#%%\n"
    }
   }
  },
  {
   "cell_type": "code",
   "execution_count": 247,
   "outputs": [
    {
     "data": {
      "text/plain": "          0       1         2\n0    3113.0   286.0  2.583003\n1    1382.0   153.0  2.710730\n2    1673.0   477.0  3.160250\n3     505.0   328.0  4.841953\n4     943.0  1125.0  3.718376\n..      ...     ...       ...\n251  1460.0   454.0  3.078638\n252  2170.0  1526.0  3.778342\n253  5168.0   673.0  4.500131\n254  1487.0  1836.0  3.683855\n255   251.0  1360.0  4.146772\n\n[256 rows x 3 columns]",
      "text/html": "<div>\n<style scoped>\n    .dataframe tbody tr th:only-of-type {\n        vertical-align: middle;\n    }\n\n    .dataframe tbody tr th {\n        vertical-align: top;\n    }\n\n    .dataframe thead th {\n        text-align: right;\n    }\n</style>\n<table border=\"1\" class=\"dataframe\">\n  <thead>\n    <tr style=\"text-align: right;\">\n      <th></th>\n      <th>0</th>\n      <th>1</th>\n      <th>2</th>\n    </tr>\n  </thead>\n  <tbody>\n    <tr>\n      <th>0</th>\n      <td>3113.0</td>\n      <td>286.0</td>\n      <td>2.583003</td>\n    </tr>\n    <tr>\n      <th>1</th>\n      <td>1382.0</td>\n      <td>153.0</td>\n      <td>2.710730</td>\n    </tr>\n    <tr>\n      <th>2</th>\n      <td>1673.0</td>\n      <td>477.0</td>\n      <td>3.160250</td>\n    </tr>\n    <tr>\n      <th>3</th>\n      <td>505.0</td>\n      <td>328.0</td>\n      <td>4.841953</td>\n    </tr>\n    <tr>\n      <th>4</th>\n      <td>943.0</td>\n      <td>1125.0</td>\n      <td>3.718376</td>\n    </tr>\n    <tr>\n      <th>...</th>\n      <td>...</td>\n      <td>...</td>\n      <td>...</td>\n    </tr>\n    <tr>\n      <th>251</th>\n      <td>1460.0</td>\n      <td>454.0</td>\n      <td>3.078638</td>\n    </tr>\n    <tr>\n      <th>252</th>\n      <td>2170.0</td>\n      <td>1526.0</td>\n      <td>3.778342</td>\n    </tr>\n    <tr>\n      <th>253</th>\n      <td>5168.0</td>\n      <td>673.0</td>\n      <td>4.500131</td>\n    </tr>\n    <tr>\n      <th>254</th>\n      <td>1487.0</td>\n      <td>1836.0</td>\n      <td>3.683855</td>\n    </tr>\n    <tr>\n      <th>255</th>\n      <td>251.0</td>\n      <td>1360.0</td>\n      <td>4.146772</td>\n    </tr>\n  </tbody>\n</table>\n<p>256 rows × 3 columns</p>\n</div>"
     },
     "execution_count": 247,
     "metadata": {},
     "output_type": "execute_result"
    }
   ],
   "source": [
    "def get_top_5():\n",
    "\n",
    "test.sort_values"
   ],
   "metadata": {
    "collapsed": false,
    "pycharm": {
     "name": "#%%\n"
    }
   }
  },
  {
   "cell_type": "code",
   "execution_count": null,
   "outputs": [],
   "source": [],
   "metadata": {
    "collapsed": false,
    "pycharm": {
     "name": "#%%\n"
    }
   }
  }
 ],
 "metadata": {
  "kernelspec": {
   "display_name": "Python 3",
   "language": "python",
   "name": "python3"
  },
  "language_info": {
   "codemirror_mode": {
    "name": "ipython",
    "version": 2
   },
   "file_extension": ".py",
   "mimetype": "text/x-python",
   "name": "python",
   "nbconvert_exporter": "python",
   "pygments_lexer": "ipython2",
   "version": "2.7.6"
  }
 },
 "nbformat": 4,
 "nbformat_minor": 0
}