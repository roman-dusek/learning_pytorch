{
 "cells": [
  {
   "cell_type": "markdown",
   "metadata": {
    "collapsed": true,
    "pycharm": {
     "name": "#%% md\n"
    }
   },
   "source": [
    "https://pytorch.org/tutorials/beginner/basics/optimization_tutorial.html"
   ]
  },
  {
   "cell_type": "code",
   "execution_count": 4,
   "outputs": [],
   "source": [
    "import torch\n",
    "from torch import nn\n",
    "from torch.utils.data import DataLoader\n",
    "from torchvision import datasets\n",
    "from torchvision.transforms import ToTensor, Lambda\n",
    "\n",
    "training_data = datasets.FashionMNIST(\n",
    "    root=\"../data\",\n",
    "    train=True,\n",
    "    download=True,\n",
    "    transform=ToTensor()\n",
    ")\n",
    "\n",
    "test_data = datasets.FashionMNIST(\n",
    "    root=\"../data\",\n",
    "    train=False,\n",
    "    download=True,\n",
    "    transform=ToTensor()\n",
    ")\n",
    "\n",
    "train_dataloader = DataLoader(training_data, batch_size=64)\n",
    "test_dataloader = DataLoader(test_data, batch_size=64)\n",
    "\n",
    "class NeuralNetwork(nn.Module):\n",
    "    def __init__(self):\n",
    "        super(NeuralNetwork, self).__init__()\n",
    "        self.flatten = nn.Flatten()\n",
    "        self.linear_relu_stack = nn.Sequential(\n",
    "            nn.Linear(28*28, 512),\n",
    "            nn.ReLU(),\n",
    "            nn.Linear(512, 512),\n",
    "            nn.ReLU(),\n",
    "            nn.Linear(512, 10),\n",
    "        )\n",
    "\n",
    "    def forward(self, x):\n",
    "        x = self.flatten(x)\n",
    "        logits = self.linear_relu_stack(x)\n",
    "        return logits\n",
    "\n",
    "model = NeuralNetwork()"
   ],
   "metadata": {
    "collapsed": false,
    "pycharm": {
     "name": "#%%\n"
    }
   }
  },
  {
   "cell_type": "code",
   "execution_count": 5,
   "outputs": [],
   "source": [
    "learning_rate = 1e-3\n",
    "batch_size = 64\n",
    "epochs = 5"
   ],
   "metadata": {
    "collapsed": false,
    "pycharm": {
     "name": "#%%\n"
    }
   }
  },
  {
   "cell_type": "code",
   "execution_count": 8,
   "outputs": [],
   "source": [
    "def train_loop(dataloader, model, loss_fn, optimizer):\n",
    "    size = len(dataloader.dataset)\n",
    "    for batch, (X,y) in enumerate(dataloader):\n",
    "\n",
    "        # forward\n",
    "        pred = model(X)\n",
    "        loss = loss_fn(pred,y)\n",
    "\n",
    "        # backwards\n",
    "        optimizer.zero_grad()\n",
    "        loss.backward()\n",
    "        optimizer.step()\n",
    "\n",
    "        if batch % 200 == 0:\n",
    "            loss, current = loss.item(), batch*len(X)\n",
    "            print(f\"loss: {loss:>7f} [{current:>5d}/{size:>5d}]\")"
   ],
   "metadata": {
    "collapsed": false,
    "pycharm": {
     "name": "#%%\n"
    }
   }
  },
  {
   "cell_type": "code",
   "execution_count": 9,
   "outputs": [],
   "source": [
    "def test_loop(dataloader, model, loss_fn,):\n",
    "    size = len(dataloader.dataset)\n",
    "    num_batches = len(dataloader)\n",
    "    test_loss, correct = 0,0\n",
    "\n",
    "    with torch.no_grad():\n",
    "        for X,y in dataloader:\n",
    "            pred = model(X)\n",
    "            test_loss += loss_fn(pred,y).item()\n",
    "            correct += (pred.argmax(1) == y).type(torch.float).sum().item()\n",
    "\n",
    "    test_loss /= num_batches\n",
    "    correct /= size\n",
    "    print(f\"Test Error: \\n Accuracy: {(100*correct):>0.1f}%, Avg loss: {test_loss:>8f} \\n\")"
   ],
   "metadata": {
    "collapsed": false,
    "pycharm": {
     "name": "#%%\n"
    }
   }
  },
  {
   "cell_type": "code",
   "execution_count": 10,
   "outputs": [],
   "source": [
    "loss_fn = nn.CrossEntropyLoss()\n",
    "optimizer = torch.optim.SGD(model.parameters(), lr=learning_rate)"
   ],
   "metadata": {
    "collapsed": false,
    "pycharm": {
     "name": "#%%\n"
    }
   }
  },
  {
   "cell_type": "code",
   "execution_count": 12,
   "outputs": [
    {
     "name": "stdout",
     "output_type": "stream",
     "text": [
      "Epochs 1 ----------------\n",
      "loss: 2.150266 [    0/60000]\n",
      "loss: 2.079705 [12800/60000]\n",
      "loss: 2.034965 [25600/60000]\n",
      "loss: 2.006636 [38400/60000]\n",
      "loss: 1.931635 [51200/60000]\n",
      "Test Error: \n",
      " Accuracy: 51.7%, Avg loss: 1.851853 \n",
      "\n",
      "Epochs 2 ----------------\n",
      "loss: 1.890243 [    0/60000]\n",
      "loss: 1.740260 [12800/60000]\n",
      "loss: 1.658877 [25600/60000]\n",
      "loss: 1.642060 [38400/60000]\n",
      "loss: 1.575693 [51200/60000]\n",
      "Test Error: \n",
      " Accuracy: 58.9%, Avg loss: 1.487102 \n",
      "\n",
      "Epochs 3 ----------------\n",
      "loss: 1.560021 [    0/60000]\n",
      "loss: 1.375647 [12800/60000]\n",
      "loss: 1.319981 [25600/60000]\n",
      "loss: 1.340931 [38400/60000]\n",
      "loss: 1.305916 [51200/60000]\n",
      "Test Error: \n",
      " Accuracy: 62.6%, Avg loss: 1.234853 \n",
      "\n",
      "Epochs 4 ----------------\n",
      "loss: 1.316230 [    0/60000]\n",
      "loss: 1.131491 [12800/60000]\n",
      "loss: 1.104521 [25600/60000]\n",
      "loss: 1.158591 [38400/60000]\n",
      "loss: 1.136991 [51200/60000]\n",
      "Test Error: \n",
      " Accuracy: 64.4%, Avg loss: 1.078474 \n",
      "\n",
      "Epochs 5 ----------------\n",
      "loss: 1.153457 [    0/60000]\n",
      "loss: 0.971256 [12800/60000]\n",
      "loss: 0.971000 [25600/60000]\n",
      "loss: 1.044206 [38400/60000]\n",
      "loss: 1.025847 [51200/60000]\n",
      "Test Error: \n",
      " Accuracy: 65.9%, Avg loss: 0.976738 \n",
      "\n",
      "Epochs 6 ----------------\n",
      "loss: 1.039251 [    0/60000]\n",
      "loss: 0.860681 [12800/60000]\n",
      "loss: 0.885482 [25600/60000]\n",
      "loss: 0.967731 [38400/60000]\n",
      "loss: 0.947864 [51200/60000]\n",
      "Test Error: \n",
      " Accuracy: 67.3%, Avg loss: 0.906564 \n",
      "\n",
      "Epochs 7 ----------------\n",
      "loss: 0.954138 [    0/60000]\n",
      "loss: 0.780707 [12800/60000]\n",
      "loss: 0.827376 [25600/60000]\n",
      "loss: 0.912577 [38400/60000]\n",
      "loss: 0.891438 [51200/60000]\n",
      "Test Error: \n",
      " Accuracy: 68.4%, Avg loss: 0.855525 \n",
      "\n",
      "Epochs 8 ----------------\n",
      "loss: 0.888097 [    0/60000]\n",
      "loss: 0.720485 [12800/60000]\n",
      "loss: 0.785295 [25600/60000]\n",
      "loss: 0.870145 [38400/60000]\n",
      "loss: 0.848775 [51200/60000]\n",
      "Test Error: \n",
      " Accuracy: 69.7%, Avg loss: 0.816544 \n",
      "\n",
      "Epochs 9 ----------------\n",
      "loss: 0.834643 [    0/60000]\n",
      "loss: 0.673131 [12800/60000]\n",
      "loss: 0.753107 [25600/60000]\n",
      "loss: 0.835586 [38400/60000]\n",
      "loss: 0.815325 [51200/60000]\n",
      "Test Error: \n",
      " Accuracy: 70.9%, Avg loss: 0.785356 \n",
      "\n",
      "Finished!\n"
     ]
    }
   ],
   "source": [
    "epochs = 10\n",
    "\n",
    "for i in range(epochs):\n",
    "    print(f\"Epochs {i+1} ----------------\")\n",
    "    train_loop(train_dataloader,model,loss_fn,optimizer)\n",
    "    test_loop(test_dataloader,model,loss_fn)\n",
    "\n",
    "print(\"Finished!\")"
   ],
   "metadata": {
    "collapsed": false,
    "pycharm": {
     "name": "#%%\n"
    }
   }
  },
  {
   "cell_type": "markdown",
   "source": [
    "# saving loading model"
   ],
   "metadata": {
    "collapsed": false,
    "pycharm": {
     "name": "#%% md\n"
    }
   }
  },
  {
   "cell_type": "code",
   "execution_count": 13,
   "outputs": [],
   "source": [
    "import torch\n",
    "import torchvision.models as models"
   ],
   "metadata": {
    "collapsed": false,
    "pycharm": {
     "name": "#%%\n"
    }
   }
  },
  {
   "cell_type": "code",
   "execution_count": 15,
   "outputs": [],
   "source": [
    "model = models.vgg16(pretrained=True)"
   ],
   "metadata": {
    "collapsed": false,
    "pycharm": {
     "name": "#%%\n"
    }
   }
  },
  {
   "cell_type": "code",
   "execution_count": null,
   "outputs": [],
   "source": [
    "# weights only\n",
    "torch.save(model.state_dict(), 'model_weights.pth')"
   ],
   "metadata": {
    "collapsed": false,
    "pycharm": {
     "name": "#%%\n"
    }
   }
  },
  {
   "cell_type": "code",
   "execution_count": null,
   "outputs": [],
   "source": [
    "model = models.vgg16() # we do not specify pretrained=True, i.e. do not load default weights\n",
    "model.load_state_dict(torch.load('model_weights.pth'))\n",
    "model.eval()"
   ],
   "metadata": {
    "collapsed": false,
    "pycharm": {
     "name": "#%%\n"
    }
   }
  },
  {
   "cell_type": "code",
   "execution_count": null,
   "outputs": [],
   "source": [
    "# whole model\n",
    "torch.save(model, \"model.pth\")\n",
    "\n",
    "torch.load(\"model.pth\")"
   ],
   "metadata": {
    "collapsed": false,
    "pycharm": {
     "name": "#%%\n"
    }
   }
  }
 ],
 "metadata": {
  "kernelspec": {
   "display_name": "Python 3",
   "language": "python",
   "name": "python3"
  },
  "language_info": {
   "codemirror_mode": {
    "name": "ipython",
    "version": 2
   },
   "file_extension": ".py",
   "mimetype": "text/x-python",
   "name": "python",
   "nbconvert_exporter": "python",
   "pygments_lexer": "ipython2",
   "version": "2.7.6"
  }
 },
 "nbformat": 4,
 "nbformat_minor": 0
}